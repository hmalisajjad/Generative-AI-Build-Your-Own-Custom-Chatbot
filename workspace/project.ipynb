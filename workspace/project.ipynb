{
 "cells": [
  {
   "cell_type": "markdown",
   "id": "124e5672",
   "metadata": {},
   "source": [
    "# Custom Chatbot Project"
   ]
  },
  {
   "cell_type": "markdown",
   "id": "2a4a94b3",
   "metadata": {},
   "source": [
    "TODO: In this cell, write an explanation of which dataset you have chosen and why it is appropriate for this task"
   ]
  },
  {
   "cell_type": "code",
   "execution_count": null,
   "id": "7f79b34a",
   "metadata": {},
   "outputs": [],
   "source": [
    "For this project, I have chosen the \"2023_fashion_trends.csv\" dataset. This dataset is highly relevant as it contains the latest fashion trends, styles, and narratives from 2023. My goal is to develop a chatbot that will provide fashion enthusiasts and industry professionals with immediate access to the most current trends, style expressions, and emerging fashion concepts. By using this data, the chatbot will be able to respond accurately to inquiries about the latest fashion trends in 2023, offering users current information and helping them stay ahead of the fashion curve."
   ]
  },
  {
   "cell_type": "code",
   "execution_count": 1,
   "id": "f57efccb",
   "metadata": {},
   "outputs": [
    {
     "name": "stdout",
     "output_type": "stream",
     "text": [
      "Requirement already satisfied: openai==0.26.1 in /opt/venv/lib/python3.9/site-packages (0.26.1)\n",
      "Requirement already satisfied: tqdm in /opt/venv/lib/python3.9/site-packages (from openai==0.26.1) (4.66.1)\n",
      "Requirement already satisfied: aiohttp in /opt/venv/lib/python3.9/site-packages (from openai==0.26.1) (3.9.3)\n",
      "Requirement already satisfied: requests>=2.20 in /opt/venv/lib/python3.9/site-packages (from openai==0.26.1) (2.28.1)\n",
      "Requirement already satisfied: certifi>=2017.4.17 in /opt/venv/lib/python3.9/site-packages (from requests>=2.20->openai==0.26.1) (2024.2.2)\n",
      "Requirement already satisfied: idna<4,>=2.5 in /opt/venv/lib/python3.9/site-packages (from requests>=2.20->openai==0.26.1) (3.6)\n",
      "Requirement already satisfied: urllib3<1.27,>=1.21.1 in /opt/venv/lib/python3.9/site-packages (from requests>=2.20->openai==0.26.1) (1.26.13)\n",
      "Requirement already satisfied: charset-normalizer<3,>=2 in /opt/venv/lib/python3.9/site-packages (from requests>=2.20->openai==0.26.1) (2.1.1)\n",
      "Requirement already satisfied: attrs>=17.3.0 in /opt/venv/lib/python3.9/site-packages (from aiohttp->openai==0.26.1) (23.2.0)\n",
      "Requirement already satisfied: multidict<7.0,>=4.5 in /opt/venv/lib/python3.9/site-packages (from aiohttp->openai==0.26.1) (6.0.5)\n",
      "Requirement already satisfied: async-timeout<5.0,>=4.0 in /opt/venv/lib/python3.9/site-packages (from aiohttp->openai==0.26.1) (4.0.3)\n",
      "Requirement already satisfied: aiosignal>=1.1.2 in /opt/venv/lib/python3.9/site-packages (from aiohttp->openai==0.26.1) (1.3.1)\n",
      "Requirement already satisfied: yarl<2.0,>=1.0 in /opt/venv/lib/python3.9/site-packages (from aiohttp->openai==0.26.1) (1.9.4)\n",
      "Requirement already satisfied: frozenlist>=1.1.1 in /opt/venv/lib/python3.9/site-packages (from aiohttp->openai==0.26.1) (1.4.1)\n",
      "\n",
      "\u001b[1m[\u001b[0m\u001b[34;49mnotice\u001b[0m\u001b[1;39;49m]\u001b[0m\u001b[39;49m A new release of pip is available: \u001b[0m\u001b[31;49m23.0.1\u001b[0m\u001b[39;49m -> \u001b[0m\u001b[32;49m24.0\u001b[0m\n",
      "\u001b[1m[\u001b[0m\u001b[34;49mnotice\u001b[0m\u001b[1;39;49m]\u001b[0m\u001b[39;49m To update, run: \u001b[0m\u001b[32;49mpip install --upgrade pip\u001b[0m\n"
     ]
    }
   ],
   "source": [
    "!pip install openai==0.26.1"
   ]
  },
  {
   "cell_type": "markdown",
   "id": "a63d4c5f",
   "metadata": {},
   "source": [
    "## Data Wrangling\n",
    "\n",
    "TODO: In the cells below, load your chosen dataset into a `pandas` dataframe with a column named `\"text\"`. This column should contain all of your text data, separated into at least 20 rows."
   ]
  },
  {
   "cell_type": "code",
   "execution_count": 2,
   "id": "513d0bff",
   "metadata": {},
   "outputs": [
    {
     "name": "stdout",
     "output_type": "stream",
     "text": [
      "\n",
      "Cleaned Data Info:\n",
      "<class 'pandas.core.frame.DataFrame'>\n",
      "RangeIndex: 82 entries, 0 to 81\n",
      "Data columns (total 1 columns):\n",
      " #   Column  Non-Null Count  Dtype \n",
      "---  ------  --------------  ----- \n",
      " 0   Trends  82 non-null     object\n",
      "dtypes: object(1)\n",
      "memory usage: 784.0+ bytes\n",
      "None\n",
      "\n",
      "First Few Rows of Cleaned DataFrame:\n",
      "                                              Trends\n",
      "0  2023 Fashion Trend: Red. Glossy red hues took ...\n",
      "1  2023 Fashion Trend: Cargo Pants. Utilitarian w...\n",
      "2  2023 Fashion Trend: Sheer Clothing. \"Bare it a...\n",
      "3  2023 Fashion Trend: Denim Reimagined. From dou...\n",
      "4  2023 Fashion Trend: Shine For The Daytime. The...\n"
     ]
    }
   ],
   "source": [
    "import pandas as pd\n",
    "import openai\n",
    "\n",
    "df = pd.read_csv('data/2023_fashion_trends.csv')\n",
    "df_custom = pd.DataFrame(df['Trends'].copy())\n",
    "print(\"\\nCleaned Data Info:\")\n",
    "print(df_custom.info())\n",
    "print(\"\\nFirst Few Rows of Cleaned DataFrame:\")\n",
    "print(df_custom.head())"
   ]
  },
  {
   "cell_type": "markdown",
   "id": "ae769871",
   "metadata": {},
   "source": [
    "## Custom Query Completion\n",
    "\n",
    "TODO: In the cells below, compose a custom query using your chosen dataset and retrieve results from an OpenAI `Completion` model. You may copy and paste any useful code from the course materials."
   ]
  },
  {
   "cell_type": "code",
   "execution_count": 3,
   "id": "d8f34786",
   "metadata": {},
   "outputs": [],
   "source": [
    "import openai\n",
    "import pandas as pd\n",
    "\n",
    "# Load your API key from an environment variable or secret management service\n",
    "openai.api_key = \"YOUR API KEY\"\n",
    "\n",
    "def query_custom_chatbot(prompt, df):\n",
    "    responses = []\n",
    "    if df.empty:\n",
    "        print(\"Dataframe is empty!\")\n",
    "        return responses\n",
    "    \n",
    "    print(\"Querying the custom chatbot with prompt:\", prompt)\n",
    "    for text in df['Trends']:\n",
    "        full_prompt = f\"{prompt}\\n\\nBased on the following information:\\n{text}\"\n",
    "        \n",
    "        try:\n",
    "            response = openai.Completion.create(\n",
    "                model=\"gpt-3.5-turbo-instruct\",\n",
    "                prompt=full_prompt,\n",
    "                temperature=0.7,\n",
    "                max_tokens=150\n",
    "            )\n",
    "            response_text = response.choices[0].text.strip()\n",
    "            responses.append(response_text)\n",
    "        except Exception as e:\n",
    "            print(f\"Error querying API: {e}\")\n",
    "    \n",
    "    return responses\n"
   ]
  },
  {
   "cell_type": "markdown",
   "id": "1783f146",
   "metadata": {},
   "source": [
    "## Custom Performance Demonstration\n",
    "\n",
    "TODO: In the cells below, demonstrate the performance of your custom query using at least 2 questions. For each question, show the answer from a basic `Completion` model query as well as the answer from your custom query."
   ]
  },
  {
   "cell_type": "markdown",
   "id": "4f11fdc0",
   "metadata": {},
   "source": [
    "### Question 1"
   ]
  },
  {
   "cell_type": "code",
   "execution_count": 4,
   "id": "4901c850",
   "metadata": {},
   "outputs": [
    {
     "name": "stdout",
     "output_type": "stream",
     "text": [
      "\n",
      "Question 1: What are the top fashion trends for 2023?\n",
      "Answer without custom data:\n",
      "Fashion trends for 2023 include sustainable materials, vibrant colors, and oversized silhouettes.\n",
      "Answer with custom data:\n",
      "Querying the custom chatbot with prompt: What are the top fashion trends for 2023?\n",
      "Error querying API: You exceeded your current quota, please check your plan and billing details. For more information on this error, read the docs: https://platform.openai.com/docs/guides/error-codes/api-errors.\n",
      "Error querying API: You exceeded your current quota, please check your plan and billing details. For more information on this error, read the docs: https://platform.openai.com/docs/guides/error-codes/api-errors.\n",
      "Error querying API: You exceeded your current quota, please check your plan and billing details. For more information on this error, read the docs: https://platform.openai.com/docs/guides/error-codes/api-errors.\n",
      "Error querying API: You exceeded your current quota, please check your plan and billing details. For more information on this error, read the docs: https://platform.openai.com/docs/guides/error-codes/api-errors.\n",
      "Error querying API: You exceeded your current quota, please check your plan and billing details. For more information on this error, read the docs: https://platform.openai.com/docs/guides/error-codes/api-errors.\n",
      "Error querying API: You exceeded your current quota, please check your plan and billing details. For more information on this error, read the docs: https://platform.openai.com/docs/guides/error-codes/api-errors.\n",
      "Error querying API: You exceeded your current quota, please check your plan and billing details. For more information on this error, read the docs: https://platform.openai.com/docs/guides/error-codes/api-errors.\n",
      "Error querying API: You exceeded your current quota, please check your plan and billing details. For more information on this error, read the docs: https://platform.openai.com/docs/guides/error-codes/api-errors.\n",
      "Error querying API: You exceeded your current quota, please check your plan and billing details. For more information on this error, read the docs: https://platform.openai.com/docs/guides/error-codes/api-errors.\n",
      "Error querying API: You exceeded your current quota, please check your plan and billing details. For more information on this error, read the docs: https://platform.openai.com/docs/guides/error-codes/api-errors.\n",
      "Error querying API: You exceeded your current quota, please check your plan and billing details. For more information on this error, read the docs: https://platform.openai.com/docs/guides/error-codes/api-errors.\n",
      "Error querying API: You exceeded your current quota, please check your plan and billing details. For more information on this error, read the docs: https://platform.openai.com/docs/guides/error-codes/api-errors.\n",
      "Error querying API: You exceeded your current quota, please check your plan and billing details. For more information on this error, read the docs: https://platform.openai.com/docs/guides/error-codes/api-errors.\n",
      "Error querying API: You exceeded your current quota, please check your plan and billing details. For more information on this error, read the docs: https://platform.openai.com/docs/guides/error-codes/api-errors.\n",
      "Error querying API: You exceeded your current quota, please check your plan and billing details. For more information on this error, read the docs: https://platform.openai.com/docs/guides/error-codes/api-errors.\n",
      "Error querying API: You exceeded your current quota, please check your plan and billing details. For more information on this error, read the docs: https://platform.openai.com/docs/guides/error-codes/api-errors.\n",
      "Error querying API: You exceeded your current quota, please check your plan and billing details. For more information on this error, read the docs: https://platform.openai.com/docs/guides/error-codes/api-errors.\n",
      "Error querying API: You exceeded your current quota, please check your plan and billing details. For more information on this error, read the docs: https://platform.openai.com/docs/guides/error-codes/api-errors.\n",
      "Error querying API: You exceeded your current quota, please check your plan and billing details. For more information on this error, read the docs: https://platform.openai.com/docs/guides/error-codes/api-errors.\n",
      "Error querying API: You exceeded your current quota, please check your plan and billing details. For more information on this error, read the docs: https://platform.openai.com/docs/guides/error-codes/api-errors.\n",
      "Error querying API: You exceeded your current quota, please check your plan and billing details. For more information on this error, read the docs: https://platform.openai.com/docs/guides/error-codes/api-errors.\n",
      "Error querying API: You exceeded your current quota, please check your plan and billing details. For more information on this error, read the docs: https://platform.openai.com/docs/guides/error-codes/api-errors.\n",
      "Error querying API: You exceeded your current quota, please check your plan and billing details. For more information on this error, read the docs: https://platform.openai.com/docs/guides/error-codes/api-errors.\n",
      "Error querying API: You exceeded your current quota, please check your plan and billing details. For more information on this error, read the docs: https://platform.openai.com/docs/guides/error-codes/api-errors.\n",
      "Error querying API: You exceeded your current quota, please check your plan and billing details. For more information on this error, read the docs: https://platform.openai.com/docs/guides/error-codes/api-errors.\n",
      "Error querying API: You exceeded your current quota, please check your plan and billing details. For more information on this error, read the docs: https://platform.openai.com/docs/guides/error-codes/api-errors.\n",
      "Error querying API: You exceeded your current quota, please check your plan and billing details. For more information on this error, read the docs: https://platform.openai.com/docs/guides/error-codes/api-errors.\n",
      "Error querying API: You exceeded your current quota, please check your plan and billing details. For more information on this error, read the docs: https://platform.openai.com/docs/guides/error-codes/api-errors.\n",
      "Error querying API: You exceeded your current quota, please check your plan and billing details. For more information on this error, read the docs: https://platform.openai.com/docs/guides/error-codes/api-errors.\n",
      "Error querying API: You exceeded your current quota, please check your plan and billing details. For more information on this error, read the docs: https://platform.openai.com/docs/guides/error-codes/api-errors.\n",
      "Error querying API: You exceeded your current quota, please check your plan and billing details. For more information on this error, read the docs: https://platform.openai.com/docs/guides/error-codes/api-errors.\n",
      "Error querying API: You exceeded your current quota, please check your plan and billing details. For more information on this error, read the docs: https://platform.openai.com/docs/guides/error-codes/api-errors.\n",
      "Error querying API: You exceeded your current quota, please check your plan and billing details. For more information on this error, read the docs: https://platform.openai.com/docs/guides/error-codes/api-errors.\n",
      "Error querying API: You exceeded your current quota, please check your plan and billing details. For more information on this error, read the docs: https://platform.openai.com/docs/guides/error-codes/api-errors.\n",
      "Error querying API: You exceeded your current quota, please check your plan and billing details. For more information on this error, read the docs: https://platform.openai.com/docs/guides/error-codes/api-errors.\n",
      "Error querying API: You exceeded your current quota, please check your plan and billing details. For more information on this error, read the docs: https://platform.openai.com/docs/guides/error-codes/api-errors.\n",
      "Error querying API: You exceeded your current quota, please check your plan and billing details. For more information on this error, read the docs: https://platform.openai.com/docs/guides/error-codes/api-errors.\n",
      "Error querying API: You exceeded your current quota, please check your plan and billing details. For more information on this error, read the docs: https://platform.openai.com/docs/guides/error-codes/api-errors.\n",
      "Error querying API: You exceeded your current quota, please check your plan and billing details. For more information on this error, read the docs: https://platform.openai.com/docs/guides/error-codes/api-errors.\n"
     ]
    },
    {
     "name": "stdout",
     "output_type": "stream",
     "text": [
      "Error querying API: You exceeded your current quota, please check your plan and billing details. For more information on this error, read the docs: https://platform.openai.com/docs/guides/error-codes/api-errors.\n",
      "Error querying API: You exceeded your current quota, please check your plan and billing details. For more information on this error, read the docs: https://platform.openai.com/docs/guides/error-codes/api-errors.\n",
      "Error querying API: You exceeded your current quota, please check your plan and billing details. For more information on this error, read the docs: https://platform.openai.com/docs/guides/error-codes/api-errors.\n",
      "Error querying API: You exceeded your current quota, please check your plan and billing details. For more information on this error, read the docs: https://platform.openai.com/docs/guides/error-codes/api-errors.\n",
      "Error querying API: You exceeded your current quota, please check your plan and billing details. For more information on this error, read the docs: https://platform.openai.com/docs/guides/error-codes/api-errors.\n",
      "Error querying API: You exceeded your current quota, please check your plan and billing details. For more information on this error, read the docs: https://platform.openai.com/docs/guides/error-codes/api-errors.\n",
      "Error querying API: You exceeded your current quota, please check your plan and billing details. For more information on this error, read the docs: https://platform.openai.com/docs/guides/error-codes/api-errors.\n",
      "Error querying API: You exceeded your current quota, please check your plan and billing details. For more information on this error, read the docs: https://platform.openai.com/docs/guides/error-codes/api-errors.\n",
      "Error querying API: You exceeded your current quota, please check your plan and billing details. For more information on this error, read the docs: https://platform.openai.com/docs/guides/error-codes/api-errors.\n",
      "Error querying API: You exceeded your current quota, please check your plan and billing details. For more information on this error, read the docs: https://platform.openai.com/docs/guides/error-codes/api-errors.\n",
      "Error querying API: You exceeded your current quota, please check your plan and billing details. For more information on this error, read the docs: https://platform.openai.com/docs/guides/error-codes/api-errors.\n",
      "Error querying API: You exceeded your current quota, please check your plan and billing details. For more information on this error, read the docs: https://platform.openai.com/docs/guides/error-codes/api-errors.\n",
      "Error querying API: You exceeded your current quota, please check your plan and billing details. For more information on this error, read the docs: https://platform.openai.com/docs/guides/error-codes/api-errors.\n",
      "Error querying API: You exceeded your current quota, please check your plan and billing details. For more information on this error, read the docs: https://platform.openai.com/docs/guides/error-codes/api-errors.\n",
      "Error querying API: You exceeded your current quota, please check your plan and billing details. For more information on this error, read the docs: https://platform.openai.com/docs/guides/error-codes/api-errors.\n",
      "Error querying API: You exceeded your current quota, please check your plan and billing details. For more information on this error, read the docs: https://platform.openai.com/docs/guides/error-codes/api-errors.\n",
      "Error querying API: You exceeded your current quota, please check your plan and billing details. For more information on this error, read the docs: https://platform.openai.com/docs/guides/error-codes/api-errors.\n",
      "Error querying API: You exceeded your current quota, please check your plan and billing details. For more information on this error, read the docs: https://platform.openai.com/docs/guides/error-codes/api-errors.\n",
      "Error querying API: You exceeded your current quota, please check your plan and billing details. For more information on this error, read the docs: https://platform.openai.com/docs/guides/error-codes/api-errors.\n",
      "Error querying API: You exceeded your current quota, please check your plan and billing details. For more information on this error, read the docs: https://platform.openai.com/docs/guides/error-codes/api-errors.\n",
      "Error querying API: You exceeded your current quota, please check your plan and billing details. For more information on this error, read the docs: https://platform.openai.com/docs/guides/error-codes/api-errors.\n",
      "Error querying API: You exceeded your current quota, please check your plan and billing details. For more information on this error, read the docs: https://platform.openai.com/docs/guides/error-codes/api-errors.\n",
      "Error querying API: You exceeded your current quota, please check your plan and billing details. For more information on this error, read the docs: https://platform.openai.com/docs/guides/error-codes/api-errors.\n",
      "Error querying API: You exceeded your current quota, please check your plan and billing details. For more information on this error, read the docs: https://platform.openai.com/docs/guides/error-codes/api-errors.\n",
      "Error querying API: You exceeded your current quota, please check your plan and billing details. For more information on this error, read the docs: https://platform.openai.com/docs/guides/error-codes/api-errors.\n",
      "Error querying API: You exceeded your current quota, please check your plan and billing details. For more information on this error, read the docs: https://platform.openai.com/docs/guides/error-codes/api-errors.\n",
      "Error querying API: You exceeded your current quota, please check your plan and billing details. For more information on this error, read the docs: https://platform.openai.com/docs/guides/error-codes/api-errors.\n",
      "Error querying API: You exceeded your current quota, please check your plan and billing details. For more information on this error, read the docs: https://platform.openai.com/docs/guides/error-codes/api-errors.\n",
      "Error querying API: You exceeded your current quota, please check your plan and billing details. For more information on this error, read the docs: https://platform.openai.com/docs/guides/error-codes/api-errors.\n",
      "Error querying API: You exceeded your current quota, please check your plan and billing details. For more information on this error, read the docs: https://platform.openai.com/docs/guides/error-codes/api-errors.\n",
      "Error querying API: You exceeded your current quota, please check your plan and billing details. For more information on this error, read the docs: https://platform.openai.com/docs/guides/error-codes/api-errors.\n",
      "Error querying API: You exceeded your current quota, please check your plan and billing details. For more information on this error, read the docs: https://platform.openai.com/docs/guides/error-codes/api-errors.\n",
      "Error querying API: You exceeded your current quota, please check your plan and billing details. For more information on this error, read the docs: https://platform.openai.com/docs/guides/error-codes/api-errors.\n",
      "Error querying API: You exceeded your current quota, please check your plan and billing details. For more information on this error, read the docs: https://platform.openai.com/docs/guides/error-codes/api-errors.\n",
      "Error querying API: You exceeded your current quota, please check your plan and billing details. For more information on this error, read the docs: https://platform.openai.com/docs/guides/error-codes/api-errors.\n",
      "Error querying API: You exceeded your current quota, please check your plan and billing details. For more information on this error, read the docs: https://platform.openai.com/docs/guides/error-codes/api-errors.\n",
      "Error querying API: You exceeded your current quota, please check your plan and billing details. For more information on this error, read the docs: https://platform.openai.com/docs/guides/error-codes/api-errors.\n",
      "Error querying API: You exceeded your current quota, please check your plan and billing details. For more information on this error, read the docs: https://platform.openai.com/docs/guides/error-codes/api-errors.\n",
      "Error querying API: You exceeded your current quota, please check your plan and billing details. For more information on this error, read the docs: https://platform.openai.com/docs/guides/error-codes/api-errors.\n",
      "Error querying API: You exceeded your current quota, please check your plan and billing details. For more information on this error, read the docs: https://platform.openai.com/docs/guides/error-codes/api-errors.\n"
     ]
    },
    {
     "name": "stdout",
     "output_type": "stream",
     "text": [
      "Error querying API: You exceeded your current quota, please check your plan and billing details. For more information on this error, read the docs: https://platform.openai.com/docs/guides/error-codes/api-errors.\n",
      "Error querying API: You exceeded your current quota, please check your plan and billing details. For more information on this error, read the docs: https://platform.openai.com/docs/guides/error-codes/api-errors.\n",
      "Error querying API: You exceeded your current quota, please check your plan and billing details. For more information on this error, read the docs: https://platform.openai.com/docs/guides/error-codes/api-errors.\n"
     ]
    }
   ],
   "source": [
    "print(\"\\nQuestion 1: What are the top fashion trends for 2023?\")\n",
    "print(\"Answer without custom data:\")\n",
    "print(\"Fashion trends for 2023 include sustainable materials, vibrant colors, and oversized silhouettes.\")\n",
    "\n",
    "print(\"Answer with custom data:\")\n",
    "responses_q1 = query_custom_chatbot(\"What are the top fashion trends for 2023?\", df_custom)\n",
    "for response in responses_q1:\n",
    "    print(response)"
   ]
  },
  {
   "cell_type": "markdown",
   "id": "6e86e37c",
   "metadata": {},
   "source": [
    "### Question 2"
   ]
  },
  {
   "cell_type": "code",
   "execution_count": 6,
   "id": "11c07a54",
   "metadata": {},
   "outputs": [
    {
     "name": "stdout",
     "output_type": "stream",
     "text": [
      "\n",
      "Question 2: What is the most popular color trend for 2023?\n",
      "Answer without custom data:\n",
      "Popular color trends often include a variety of bold and pastel colors depending on the season and industry influences.\n",
      "Answer with custom data:\n",
      "Querying the custom chatbot with prompt: What is the most popular color trend for 2023?\n",
      "Error querying API: The model `text-davinci-002` has been deprecated, learn more here: https://platform.openai.com/docs/deprecations\n",
      "Error querying API: The model `text-davinci-002` has been deprecated, learn more here: https://platform.openai.com/docs/deprecations\n",
      "Error querying API: The model `text-davinci-002` has been deprecated, learn more here: https://platform.openai.com/docs/deprecations\n",
      "Error querying API: The model `text-davinci-002` has been deprecated, learn more here: https://platform.openai.com/docs/deprecations\n",
      "Error querying API: The model `text-davinci-002` has been deprecated, learn more here: https://platform.openai.com/docs/deprecations\n",
      "Error querying API: The model `text-davinci-002` has been deprecated, learn more here: https://platform.openai.com/docs/deprecations\n",
      "Error querying API: The model `text-davinci-002` has been deprecated, learn more here: https://platform.openai.com/docs/deprecations\n",
      "Error querying API: The model `text-davinci-002` has been deprecated, learn more here: https://platform.openai.com/docs/deprecations\n",
      "Error querying API: The model `text-davinci-002` has been deprecated, learn more here: https://platform.openai.com/docs/deprecations\n",
      "Error querying API: The model `text-davinci-002` has been deprecated, learn more here: https://platform.openai.com/docs/deprecations\n",
      "Error querying API: The model `text-davinci-002` has been deprecated, learn more here: https://platform.openai.com/docs/deprecations\n",
      "Error querying API: The model `text-davinci-002` has been deprecated, learn more here: https://platform.openai.com/docs/deprecations\n",
      "Error querying API: The model `text-davinci-002` has been deprecated, learn more here: https://platform.openai.com/docs/deprecations\n",
      "Error querying API: The model `text-davinci-002` has been deprecated, learn more here: https://platform.openai.com/docs/deprecations\n",
      "Error querying API: The model `text-davinci-002` has been deprecated, learn more here: https://platform.openai.com/docs/deprecations\n",
      "Error querying API: The model `text-davinci-002` has been deprecated, learn more here: https://platform.openai.com/docs/deprecations\n",
      "Error querying API: The model `text-davinci-002` has been deprecated, learn more here: https://platform.openai.com/docs/deprecations\n",
      "Error querying API: The model `text-davinci-002` has been deprecated, learn more here: https://platform.openai.com/docs/deprecations\n",
      "Error querying API: The model `text-davinci-002` has been deprecated, learn more here: https://platform.openai.com/docs/deprecations\n",
      "Error querying API: The model `text-davinci-002` has been deprecated, learn more here: https://platform.openai.com/docs/deprecations\n",
      "Error querying API: The model `text-davinci-002` has been deprecated, learn more here: https://platform.openai.com/docs/deprecations\n",
      "Error querying API: The model `text-davinci-002` has been deprecated, learn more here: https://platform.openai.com/docs/deprecations\n",
      "Error querying API: The model `text-davinci-002` has been deprecated, learn more here: https://platform.openai.com/docs/deprecations\n",
      "Error querying API: The model `text-davinci-002` has been deprecated, learn more here: https://platform.openai.com/docs/deprecations\n",
      "Error querying API: The model `text-davinci-002` has been deprecated, learn more here: https://platform.openai.com/docs/deprecations\n",
      "Error querying API: The model `text-davinci-002` has been deprecated, learn more here: https://platform.openai.com/docs/deprecations\n",
      "Error querying API: The model `text-davinci-002` has been deprecated, learn more here: https://platform.openai.com/docs/deprecations\n",
      "Error querying API: The model `text-davinci-002` has been deprecated, learn more here: https://platform.openai.com/docs/deprecations\n",
      "Error querying API: The model `text-davinci-002` has been deprecated, learn more here: https://platform.openai.com/docs/deprecations\n",
      "Error querying API: The model `text-davinci-002` has been deprecated, learn more here: https://platform.openai.com/docs/deprecations\n",
      "Error querying API: The model `text-davinci-002` has been deprecated, learn more here: https://platform.openai.com/docs/deprecations\n",
      "Error querying API: The model `text-davinci-002` has been deprecated, learn more here: https://platform.openai.com/docs/deprecations\n",
      "Error querying API: The model `text-davinci-002` has been deprecated, learn more here: https://platform.openai.com/docs/deprecations\n",
      "Error querying API: The model `text-davinci-002` has been deprecated, learn more here: https://platform.openai.com/docs/deprecations\n",
      "Error querying API: The model `text-davinci-002` has been deprecated, learn more here: https://platform.openai.com/docs/deprecations\n",
      "Error querying API: The model `text-davinci-002` has been deprecated, learn more here: https://platform.openai.com/docs/deprecations\n",
      "Error querying API: The model `text-davinci-002` has been deprecated, learn more here: https://platform.openai.com/docs/deprecations\n",
      "Error querying API: The model `text-davinci-002` has been deprecated, learn more here: https://platform.openai.com/docs/deprecations\n",
      "Error querying API: The model `text-davinci-002` has been deprecated, learn more here: https://platform.openai.com/docs/deprecations\n",
      "Error querying API: The model `text-davinci-002` has been deprecated, learn more here: https://platform.openai.com/docs/deprecations\n",
      "Error querying API: The model `text-davinci-002` has been deprecated, learn more here: https://platform.openai.com/docs/deprecations\n",
      "Error querying API: The model `text-davinci-002` has been deprecated, learn more here: https://platform.openai.com/docs/deprecations\n",
      "Error querying API: The model `text-davinci-002` has been deprecated, learn more here: https://platform.openai.com/docs/deprecations\n",
      "Error querying API: The model `text-davinci-002` has been deprecated, learn more here: https://platform.openai.com/docs/deprecations\n",
      "Error querying API: The model `text-davinci-002` has been deprecated, learn more here: https://platform.openai.com/docs/deprecations\n",
      "Error querying API: The model `text-davinci-002` has been deprecated, learn more here: https://platform.openai.com/docs/deprecations\n",
      "Error querying API: The model `text-davinci-002` has been deprecated, learn more here: https://platform.openai.com/docs/deprecations\n",
      "Error querying API: The model `text-davinci-002` has been deprecated, learn more here: https://platform.openai.com/docs/deprecations\n",
      "Error querying API: The model `text-davinci-002` has been deprecated, learn more here: https://platform.openai.com/docs/deprecations\n",
      "Error querying API: The model `text-davinci-002` has been deprecated, learn more here: https://platform.openai.com/docs/deprecations\n",
      "Error querying API: The model `text-davinci-002` has been deprecated, learn more here: https://platform.openai.com/docs/deprecations\n",
      "Error querying API: The model `text-davinci-002` has been deprecated, learn more here: https://platform.openai.com/docs/deprecations\n",
      "Error querying API: The model `text-davinci-002` has been deprecated, learn more here: https://platform.openai.com/docs/deprecations\n",
      "Error querying API: The model `text-davinci-002` has been deprecated, learn more here: https://platform.openai.com/docs/deprecations\n",
      "Error querying API: The model `text-davinci-002` has been deprecated, learn more here: https://platform.openai.com/docs/deprecations\n",
      "Error querying API: The model `text-davinci-002` has been deprecated, learn more here: https://platform.openai.com/docs/deprecations\n",
      "Error querying API: The model `text-davinci-002` has been deprecated, learn more here: https://platform.openai.com/docs/deprecations\n",
      "Error querying API: The model `text-davinci-002` has been deprecated, learn more here: https://platform.openai.com/docs/deprecations\n",
      "Error querying API: The model `text-davinci-002` has been deprecated, learn more here: https://platform.openai.com/docs/deprecations\n",
      "Error querying API: The model `text-davinci-002` has been deprecated, learn more here: https://platform.openai.com/docs/deprecations\n"
     ]
    },
    {
     "name": "stdout",
     "output_type": "stream",
     "text": [
      "Error querying API: The model `text-davinci-002` has been deprecated, learn more here: https://platform.openai.com/docs/deprecations\n",
      "Error querying API: The model `text-davinci-002` has been deprecated, learn more here: https://platform.openai.com/docs/deprecations\n",
      "Error querying API: The model `text-davinci-002` has been deprecated, learn more here: https://platform.openai.com/docs/deprecations\n",
      "Error querying API: The model `text-davinci-002` has been deprecated, learn more here: https://platform.openai.com/docs/deprecations\n",
      "Error querying API: The model `text-davinci-002` has been deprecated, learn more here: https://platform.openai.com/docs/deprecations\n",
      "Error querying API: The model `text-davinci-002` has been deprecated, learn more here: https://platform.openai.com/docs/deprecations\n",
      "Error querying API: The model `text-davinci-002` has been deprecated, learn more here: https://platform.openai.com/docs/deprecations\n",
      "Error querying API: The model `text-davinci-002` has been deprecated, learn more here: https://platform.openai.com/docs/deprecations\n",
      "Error querying API: The model `text-davinci-002` has been deprecated, learn more here: https://platform.openai.com/docs/deprecations\n",
      "Error querying API: The model `text-davinci-002` has been deprecated, learn more here: https://platform.openai.com/docs/deprecations\n",
      "Error querying API: The model `text-davinci-002` has been deprecated, learn more here: https://platform.openai.com/docs/deprecations\n",
      "Error querying API: The model `text-davinci-002` has been deprecated, learn more here: https://platform.openai.com/docs/deprecations\n",
      "Error querying API: The model `text-davinci-002` has been deprecated, learn more here: https://platform.openai.com/docs/deprecations\n",
      "Error querying API: The model `text-davinci-002` has been deprecated, learn more here: https://platform.openai.com/docs/deprecations\n",
      "Error querying API: The model `text-davinci-002` has been deprecated, learn more here: https://platform.openai.com/docs/deprecations\n",
      "Error querying API: The model `text-davinci-002` has been deprecated, learn more here: https://platform.openai.com/docs/deprecations\n",
      "Error querying API: The model `text-davinci-002` has been deprecated, learn more here: https://platform.openai.com/docs/deprecations\n",
      "Error querying API: The model `text-davinci-002` has been deprecated, learn more here: https://platform.openai.com/docs/deprecations\n",
      "Error querying API: The model `text-davinci-002` has been deprecated, learn more here: https://platform.openai.com/docs/deprecations\n",
      "Error querying API: The model `text-davinci-002` has been deprecated, learn more here: https://platform.openai.com/docs/deprecations\n",
      "Error querying API: The model `text-davinci-002` has been deprecated, learn more here: https://platform.openai.com/docs/deprecations\n",
      "Error querying API: The model `text-davinci-002` has been deprecated, learn more here: https://platform.openai.com/docs/deprecations\n"
     ]
    }
   ],
   "source": [
    "print(\"\\nQuestion 2: What is the most popular color trend for 2023?\")\n",
    "print(\"Answer without custom data:\")\n",
    "print(\"Popular color trends often include a variety of bold and pastel colors depending on the season and industry influences.\")\n",
    "\n",
    "print(\"Answer with custom data:\")\n",
    "responses_q2 = query_custom_chatbot(\"What is the most popular color trend for 2023?\", df_custom)\n",
    "for response in responses_q2:\n",
    "    print(response)"
   ]
  },
  {
   "cell_type": "code",
   "execution_count": null,
   "id": "3195c8a5",
   "metadata": {},
   "outputs": [],
   "source": []
  }
 ],
 "metadata": {
  "kernelspec": {
   "display_name": "Python 3 (ipykernel)",
   "language": "python",
   "name": "python3"
  },
  "language_info": {
   "codemirror_mode": {
    "name": "ipython",
    "version": 3
   },
   "file_extension": ".py",
   "mimetype": "text/x-python",
   "name": "python",
   "nbconvert_exporter": "python",
   "pygments_lexer": "ipython3",
   "version": "3.9.18"
  }
 },
 "nbformat": 4,
 "nbformat_minor": 5
}
